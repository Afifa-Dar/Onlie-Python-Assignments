{
 "cells": [
  {
   "cell_type": "code",
   "execution_count": 14,
   "id": "87cd0fe2",
   "metadata": {},
   "outputs": [
    {
     "name": "stdout",
     "output_type": "stream",
     "text": [
      "Twinkle,twinkle,little star,\n",
      "\tHow I wonder what you are!\n",
      "\t\tUp above the world so high\n",
      "\t\tLike a diamond in the sky.\n",
      "Twinkle,twinkle,little star,\n",
      "\tHow I wonder what you are\n"
     ]
    }
   ],
   "source": [
    "#Write a Python program to print the following string in a specific format (see the output)\n",
    "print(\"Twinkle,twinkle,little star,\\n\\tHow I wonder what you are!\\n\\t\\tUp above the world so high\\n\\t\\tLike a diamond in the sky.\\nTwinkle,twinkle,little star,\\n\\tHow I wonder what you are\")"
   ]
  },
  {
   "cell_type": "code",
   "execution_count": 15,
   "id": "f2562a87",
   "metadata": {},
   "outputs": [
    {
     "name": "stdout",
     "output_type": "stream",
     "text": [
      "3.8.8 (default, Apr 13 2021, 15:08:03) [MSC v.1916 64 bit (AMD64)]\n"
     ]
    }
   ],
   "source": [
    "#Write a Python program to get the Python version you are using\n",
    "import sys\n",
    "print(sys.version)"
   ]
  },
  {
   "cell_type": "code",
   "execution_count": 33,
   "id": "447ecca2",
   "metadata": {},
   "outputs": [
    {
     "name": "stdout",
     "output_type": "stream",
     "text": [
      "23/10/2021, 20:50:00\n"
     ]
    }
   ],
   "source": [
    "#Write a Python program to display the current date and time.\n",
    "import datetime\n",
    "c=datetime.datetime.now()\n",
    "print(c.strftime(\"%d/%m/%Y, %H:%M:%S\"))"
   ]
  },
  {
   "cell_type": "code",
   "execution_count": 38,
   "id": "41824ee5",
   "metadata": {},
   "outputs": [
    {
     "name": "stdout",
     "output_type": "stream",
     "text": [
      "enter radius of a circle: 4\n",
      "\n",
      "*** Area of a circle is : PI*r^2 *** \n",
      "\n",
      "area of a given cirlce is  50.24\n"
     ]
    }
   ],
   "source": [
    "#Write a Python program which accepts the radius of a circle from the user and compute the area.\n",
    "r=int(input(\"enter radius of a circle: \"))\n",
    "print(\"\\n*** Area of a circle is : PI*r^2 *** \")\n",
    "a=3.14*r**2\n",
    "print(\"\\narea of a given cirlce is \",a)"
   ]
  },
  {
   "cell_type": "code",
   "execution_count": 50,
   "id": "490bfb8d",
   "metadata": {},
   "outputs": [
    {
     "name": "stdout",
     "output_type": "stream",
     "text": [
      "enter first name: afifa\n",
      "enter last name: dar\n",
      "dar afifa\n"
     ]
    }
   ],
   "source": [
    "#Write a Python program which accepts the user's first and last name and print them in reverse order with a space between them.\n",
    "f=input(\"enter first name: \")\n",
    "l=input('enter last name: ')\n",
    "print(l+\" \"+f)"
   ]
  },
  {
   "cell_type": "code",
   "execution_count": 49,
   "id": "a5c25ba5",
   "metadata": {},
   "outputs": [
    {
     "name": "stdout",
     "output_type": "stream",
     "text": [
      "enter number :3\n",
      "enter number5\n",
      "8\n"
     ]
    }
   ],
   "source": [
    "#Write a python program which takes two inputs from user and print them addition\n",
    "a=int(input(\"enter number :\"))\n",
    "b=int(input(\"enter number\"))\n",
    "print(a+b)"
   ]
  },
  {
   "cell_type": "code",
   "execution_count": 57,
   "id": "ef227eab",
   "metadata": {},
   "outputs": [
    {
     "name": "stdout",
     "output_type": "stream",
     "text": [
      "enter 1 Subject marks: 56\n",
      "enter 2 Subject marks: 78\n",
      "enter 3 Subject marks: 89\n",
      "enter 4 Subject marks: 77\n",
      "enter 5 Subject marks: 78\n",
      "Grade : A++\n"
     ]
    }
   ],
   "source": [
    "#Write a program which takes 5 inputs from user for different subject’s marks, total it and generate mark sheet using grades ?\n",
    "t=0\n",
    "for i in range(5):\n",
    "    print(\"enter\",i+1,\"Subject marks: \",end=\"\")\n",
    "    t+=int(input())\n",
    "per=t/500*100\n",
    "if per<100:\n",
    "    print('Grade : ',end=\"\")\n",
    "    if per<100 or per>=80:\n",
    "        print(\"A++\")\n",
    "    elif per<80 or per>=70:\n",
    "        print(\"A\")\n",
    "    elif per<70 or per>=60:\n",
    "        print(\"B\")\n",
    "    elif per<60 or per>=50:\n",
    "        print(\"C\")\n",
    "    elif per<50 or per>=40:\n",
    "        print(\"D\")\n",
    "    else:\n",
    "        print(\"fail\")\n",
    "else:\n",
    "    print('invalid percentage')\n",
    "        \n",
    "        \n",
    "        "
   ]
  },
  {
   "cell_type": "code",
   "execution_count": 60,
   "id": "353a4283",
   "metadata": {},
   "outputs": [
    {
     "name": "stdout",
     "output_type": "stream",
     "text": [
      "enter number46\n",
      "even\n"
     ]
    }
   ],
   "source": [
    "#Write a program which take input from user and identify that the given number is even or odd?\n",
    "num=int(input(\"enter number\"))\n",
    "if num%2==0:\n",
    "    print(\"even\")\n",
    "else:\n",
    "    print(\"odd\")"
   ]
  },
  {
   "cell_type": "code",
   "execution_count": 61,
   "id": "f27b8c0e",
   "metadata": {},
   "outputs": [
    {
     "name": "stdout",
     "output_type": "stream",
     "text": [
      "5\n"
     ]
    }
   ],
   "source": [
    "#Write a program which print the length of the list?\n",
    "l=[2,4,6,\"9\",\"dar\"]\n",
    "print(len(l))"
   ]
  },
  {
   "cell_type": "code",
   "execution_count": 27,
   "id": "a1d5f4e8",
   "metadata": {},
   "outputs": [
    {
     "name": "stdout",
     "output_type": "stream",
     "text": [
      "sum of numeric item in a list is 23.6\n"
     ]
    }
   ],
   "source": [
    "#Write a Python program to sum all the numeric items in a list?\n",
    "l=[3,\"dar\",5,\"7\",6,9.6];s=0\n",
    "for i in l:\n",
    "    w=type(i)\n",
    "    if w==int or w== float:\n",
    "        s+=i\n",
    "print(\"sum of numeric item in a list is\",s)\n",
    "    "
   ]
  },
  {
   "cell_type": "code",
   "execution_count": 15,
   "id": "6307f8c2",
   "metadata": {},
   "outputs": [
    {
     "name": "stdout",
     "output_type": "stream",
     "text": [
      "largest number in a list is  18\n"
     ]
    }
   ],
   "source": [
    "#Write a Python program to get the largest number from a numeric list.\n",
    "l=[3,6,18,9]\n",
    "b=l[0]\n",
    "for i in l:\n",
    "    if i>b:\n",
    "        b=i\n",
    "print(\"largest number in a list is \",b)"
   ]
  },
  {
   "cell_type": "code",
   "execution_count": 67,
   "id": "196360b2",
   "metadata": {},
   "outputs": [
    {
     "name": "stdout",
     "output_type": "stream",
     "text": [
      "1\n",
      "1\n",
      "2\n",
      "3\n"
     ]
    }
   ],
   "source": [
    "\"\"\"Take a list, say for example this one:\n",
    "a = [1, 1, 2, 3, 5, 8, 13, 21, 34, 55, 89]\n",
    "Write a program that prints out all the elements of the list that are less than 5.\"\"\"\n",
    "a = [1, 1, 2, 3, 5, 8, 13, 21, 34, 55, 89]\n",
    "for i in a:\n",
    "    if i<5:\n",
    "        print(i)\n",
    "    "
   ]
  },
  {
   "cell_type": "code",
   "execution_count": null,
   "id": "6ebfd3d3",
   "metadata": {},
   "outputs": [],
   "source": []
  }
 ],
 "metadata": {
  "kernelspec": {
   "display_name": "Python 3",
   "language": "python",
   "name": "python3"
  },
  "language_info": {
   "codemirror_mode": {
    "name": "ipython",
    "version": 3
   },
   "file_extension": ".py",
   "mimetype": "text/x-python",
   "name": "python",
   "nbconvert_exporter": "python",
   "pygments_lexer": "ipython3",
   "version": "3.8.8"
  }
 },
 "nbformat": 4,
 "nbformat_minor": 5
}
