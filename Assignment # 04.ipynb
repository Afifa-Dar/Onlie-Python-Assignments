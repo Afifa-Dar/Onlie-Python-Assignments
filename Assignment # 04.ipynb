{
 "cells": [
  {
   "cell_type": "markdown",
   "id": "ca9f2f79",
   "metadata": {},
   "source": [
    "# 1. Make a calculator using Python with addition , subtraction ,multiplication ,division and power."
   ]
  },
  {
   "cell_type": "code",
   "execution_count": 3,
   "id": "c47415fe",
   "metadata": {},
   "outputs": [
    {
     "name": "stdout",
     "output_type": "stream",
     "text": [
      "python calculator!!!\n",
      "what you want to do??\n",
      "1- addition\t2- subtraction\t3- multiplication\t4- division\t5- power5\n",
      "enter number: 2\n",
      "enter powerr: 5\n",
      "5 power of  2  is  32\n"
     ]
    }
   ],
   "source": [
    "def add(a,b):\n",
    "    return a+b\n",
    "def sub(a,b):\n",
    "    return a-b\n",
    "def mul(a,b):\n",
    "    return a*b\n",
    "def div(a,b):\n",
    "    return a/b\n",
    "def power(a,n):\n",
    "    return a**n\n",
    "print(\"python calculator!!!\\nwhat you want to do??\")\n",
    "ch=input(\"1- addition\\t2- subtraction\\t3- multiplication\\t4- division\\t5- power\")\n",
    "if ch==\"1\":\n",
    "    n1=int(input(\"enter one number: \"))\n",
    "    n2=int(input(\"enter second number: \"))\n",
    "    print(\"addition of \",n1,\" and \",n2,\" is \",add(n1,n2))\n",
    "elif ch==\"2\":\n",
    "    n1=int(input(\"enter one number: \"))\n",
    "    n2=int(input(\"enter second number: \"))\n",
    "    print(\"subtraction of \",n1,\" and \",n2,\" is \",sub(n1,n2))\n",
    "if ch==\"3\":\n",
    "    n1=int(input(\"enter one number: \"))\n",
    "    n2=int(input(\"enter second number: \"))\n",
    "    print(\"multiplication of \",n1,\" and \",n2,\" is \",mul(n1,n2))\n",
    "if ch==\"4\":\n",
    "    n1=int(input(\"enter one number: \"))\n",
    "    n2=int(input(\"enter second number: \"))\n",
    "    print(\"division of \",n1,\" and \",n2,\" is \",div(n1,n2))\n",
    "if ch==\"5\":\n",
    "    num=int(input(\"enter number: \"))\n",
    "    p=int(input(\"enter powerr: \"))\n",
    "    print(p,\"power of \",num,\" is \",power(num,p))\n"
   ]
  },
  {
   "cell_type": "markdown",
   "id": "fdb9e12d",
   "metadata": {},
   "source": [
    "# 2. Write a program to check if there is any numeric value in list using for loop."
   ]
  },
  {
   "cell_type": "code",
   "execution_count": 6,
   "id": "92901bce",
   "metadata": {},
   "outputs": [
    {
     "name": "stdout",
     "output_type": "stream",
     "text": [
      "numeric val in list ?\n",
      " yes\n"
     ]
    }
   ],
   "source": [
    "l=[\"a\",4,\"b\",2.5,\"c\"]\n",
    "ch=\"no\"\n",
    "for i in l:\n",
    "    if type(i)==int or type(i)==float:\n",
    "        ch=\"yes\"\n",
    "        break\n",
    "print(\"numeric val in list ?\\n\",ch)"
   ]
  },
  {
   "cell_type": "markdown",
   "id": "bac894a9",
   "metadata": {},
   "source": [
    "# 3. Write a Python script to add a key to a dictionary."
   ]
  },
  {
   "cell_type": "code",
   "execution_count": 10,
   "id": "25efacc2",
   "metadata": {},
   "outputs": [
    {
     "name": "stdout",
     "output_type": "stream",
     "text": [
      "{1: 'a', 2: 'b', 3: 'c', 4: 'd'}\n"
     ]
    }
   ],
   "source": [
    "# d={1:\"a\",2:\"b\",3:\"c\"}\n",
    "d[4]=\"d\"\n",
    "print(d)"
   ]
  },
  {
   "cell_type": "markdown",
   "id": "fef71f7b",
   "metadata": {},
   "source": [
    "# 4. Write a Python program to sum all the numeric items in a dictionary."
   ]
  },
  {
   "cell_type": "code",
   "execution_count": 9,
   "id": "db067b67",
   "metadata": {},
   "outputs": [
    {
     "name": "stdout",
     "output_type": "stream",
     "text": [
      "sum of numeric items in a list is 18\n"
     ]
    }
   ],
   "source": [
    "d={1:\"a\",2:\"b\",3:\"c\",4:8}\n",
    "s=0\n",
    "for i,j in d.items():\n",
    "    if type(i)==int or type(i)==float:\n",
    "        s+=i\n",
    "    if type(j)==int or type(j)==float:\n",
    "        s+=j\n",
    "print(\"sum of numeric items in a list is\",s)"
   ]
  },
  {
   "cell_type": "markdown",
   "id": "0762e0a2",
   "metadata": {},
   "source": [
    "# 5. Write a program to identify duplicate values from list."
   ]
  },
  {
   "cell_type": "code",
   "execution_count": 37,
   "id": "45485d18",
   "metadata": {},
   "outputs": [
    {
     "name": "stdout",
     "output_type": "stream",
     "text": [
      "duplicate values in \n",
      " [1, 2, 5, 4, 6, 5, 1, 7] \n",
      " are \n",
      " [1, 5]\n"
     ]
    }
   ],
   "source": [
    "l=[1,2,5,4,6,5,1,7]\n",
    "dup=[]\n",
    "for i in range(len(l)):\n",
    "    for j in range(i+1,len(l)):\n",
    "        if l[i]==l[j] and i!=j:\n",
    "            dup.append(l[i])\n",
    "print(\"duplicate values in \\n\",l,\"\\n are \\n\",dup)"
   ]
  },
  {
   "cell_type": "markdown",
   "id": "856514e6",
   "metadata": {},
   "source": [
    "# 6.  Write a Python script to check if a given key already exists in a dictionary"
   ]
  },
  {
   "cell_type": "code",
   "execution_count": 41,
   "id": "fb27636c",
   "metadata": {},
   "outputs": [
    {
     "name": "stdout",
     "output_type": "stream",
     "text": [
      "key is present\n"
     ]
    }
   ],
   "source": [
    "d={1:\"a\",2:\"b\",3:\"c\",4:8}\n",
    "k=3\n",
    "if k in d:\n",
    "    print(\"key is present\")\n",
    "else:\n",
    "    print(\"key not present\")"
   ]
  },
  {
   "cell_type": "code",
   "execution_count": null,
   "id": "3b5c7825",
   "metadata": {},
   "outputs": [],
   "source": []
  }
 ],
 "metadata": {
  "kernelspec": {
   "display_name": "Python 3",
   "language": "python",
   "name": "python3"
  },
  "language_info": {
   "codemirror_mode": {
    "name": "ipython",
    "version": 3
   },
   "file_extension": ".py",
   "mimetype": "text/x-python",
   "name": "python",
   "nbconvert_exporter": "python",
   "pygments_lexer": "ipython3",
   "version": "3.8.8"
  }
 },
 "nbformat": 4,
 "nbformat_minor": 5
}
